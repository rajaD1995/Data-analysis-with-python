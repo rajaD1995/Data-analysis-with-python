{
 "cells": [
  {
   "cell_type": "code",
   "execution_count": 1,
   "id": "010c3ba7",
   "metadata": {},
   "outputs": [],
   "source": [
    "import pandas as pd\n",
    "import numpy as np"
   ]
  },
  {
   "cell_type": "code",
   "execution_count": 6,
   "id": "4eb9de8b",
   "metadata": {},
   "outputs": [
    {
     "name": "stdout",
     "output_type": "stream",
     "text": [
      "    date_column  day  month  year\n",
      "0    2024-02-23   23      2  2024\n",
      "1    23/02/2024   23      2  2024\n",
      "2  Feb 23, 2024   23      2  2024\n",
      "3    02-23-2024   23      2  2024\n",
      "4    2024.02.23   23      2  2024\n"
     ]
    }
   ],
   "source": [
    "import pandas as pd\n",
    "from dateutil.parser import parse\n",
    "\n",
    "# Sample data with mixed date formats\n",
    "data = {'date_column': ['2024-02-23', '23/02/2024', 'Feb 23, 2024', '02-23-2024', '2024.02.23']}\n",
    "\n",
    "# Create DataFrame\n",
    "df = pd.DataFrame(data)\n",
    "\n",
    "# Function to parse date safely\n",
    "def safe_date_parser(date_str):\n",
    "    try:\n",
    "        dt = parse(date_str, dayfirst=True)  # dayfirst=True handles formats like DD/MM/YYYY\n",
    "        return dt.day, dt.month, dt.year\n",
    "    except Exception:\n",
    "        return None, None, None  # If parsing fails, return None\n",
    "\n",
    "# Apply function to split date into day, month, year\n",
    "df[['day', 'month', 'year']] = df['date_column'].apply(lambda x: pd.Series(safe_date_parser(x)))\n",
    "\n",
    "print(df)\n"
   ]
  },
  {
   "cell_type": "code",
   "execution_count": 7,
   "id": "614aa5b5",
   "metadata": {},
   "outputs": [
    {
     "name": "stdout",
     "output_type": "stream",
     "text": [
      "         date_column  day  month  year\n",
      "0         2024-02-23   23      2  2024\n",
      "1         23/02/2024   23      2  2024\n",
      "2       Feb 23, 2024   23      2  2024\n",
      "3         02-23-2024   23      2  2024\n",
      "4         2024.02.23   23      2  2024\n",
      "5       3rd Mar 2001    3      3  2001\n",
      "6  21st January 1999   21      1  1999\n",
      "7      5th July 2015    5      7  2015\n"
     ]
    }
   ],
   "source": [
    "import pandas as pd\n",
    "import re\n",
    "from dateutil.parser import parse\n",
    "\n",
    "# Sample data with mixed date formats\n",
    "data = {'date_column': ['2024-02-23', '23/02/2024', 'Feb 23, 2024', '02-23-2024', \n",
    "                        '2024.02.23', '3rd Mar 2001', '21st January 1999', '5th July 2015']}\n",
    "\n",
    "# Create DataFrame\n",
    "df = pd.DataFrame(data)\n",
    "\n",
    "# Function to clean and parse date safely\n",
    "def safe_date_parser(date_str):\n",
    "    try:\n",
    "        # Remove ordinal suffixes (st, nd, rd, th)\n",
    "        cleaned_date = re.sub(r'(\\d+)(st|nd|rd|th)', r'\\1', date_str)\n",
    "        dt = parse(cleaned_date, dayfirst=True)  # dayfirst=True for formats like DD/MM/YYYY\n",
    "        return dt.day, dt.month, dt.year\n",
    "    except Exception:\n",
    "        return None, None, None  # If parsing fails, return None\n",
    "\n",
    "# Apply function to split date into day, month, year\n",
    "df[['day', 'month', 'year']] = df['date_column'].apply(lambda x: pd.Series(safe_date_parser(x)))\n",
    "\n",
    "# Display the result\n",
    "print(df)\n"
   ]
  },
  {
   "cell_type": "code",
   "execution_count": 8,
   "id": "1046c9bb",
   "metadata": {},
   "outputs": [
    {
     "name": "stdout",
     "output_type": "stream",
     "text": [
      "         date_column  day     month  year\n",
      "0         2024-02-23   23  February  2024\n",
      "1         23/02/2024   23  February  2024\n",
      "2       Feb 23, 2024   23  February  2024\n",
      "3         02-23-2024   23  February  2024\n",
      "4         2024.02.23   23  February  2024\n",
      "5       3rd Mar 2001    3     March  2001\n",
      "6  21st January 1999   21   January  1999\n",
      "7      5th July 2015    5      July  2015\n"
     ]
    }
   ],
   "source": [
    "import pandas as pd\n",
    "import re\n",
    "from dateutil.parser import parse\n",
    "\n",
    "# Sample data with mixed date formats\n",
    "data = {'date_column': ['2024-02-23', '23/02/2024', 'Feb 23, 2024', '02-23-2024', \n",
    "                        '2024.02.23', '3rd Mar 2001', '21st January 1999', '5th July 2015']}\n",
    "\n",
    "# Create DataFrame\n",
    "df = pd.DataFrame(data)\n",
    "\n",
    "# Function to clean and parse date safely\n",
    "def safe_date_parser(date_str):\n",
    "    try:\n",
    "        # Remove ordinal suffixes (st, nd, rd, th)\n",
    "        cleaned_date = re.sub(r'(\\d+)(st|nd|rd|th)', r'\\1', date_str)\n",
    "        dt = parse(cleaned_date, dayfirst=True)  # Automatically detects format\n",
    "        return dt.day, dt.strftime('%B'), dt.year  # '%B' returns full month name\n",
    "    except Exception:\n",
    "        return None, None, None  # If parsing fails, return None\n",
    "\n",
    "# Apply function to split date into day, month name, year\n",
    "df[['day', 'month', 'year']] = df['date_column'].apply(lambda x: pd.Series(safe_date_parser(x)))\n",
    "\n",
    "# Display the result\n",
    "print(df)\n"
   ]
  },
  {
   "cell_type": "code",
   "execution_count": 9,
   "id": "bec90966",
   "metadata": {},
   "outputs": [
    {
     "name": "stdout",
     "output_type": "stream",
     "text": [
      "         date_column  day month  year\n",
      "0         2024-02-23   23   Feb  2024\n",
      "1         23/02/2024   23   Feb  2024\n",
      "2       Feb 23, 2024   23   Feb  2024\n",
      "3         02-23-2024   23   Feb  2024\n",
      "4         2024.02.23   23   Feb  2024\n",
      "5       3rd Mar 2001    3   Mar  2001\n",
      "6  21st January 1999   21   Jan  1999\n",
      "7      5th July 2015    5   Jul  2015\n"
     ]
    }
   ],
   "source": [
    "import pandas as pd\n",
    "import re\n",
    "from dateutil.parser import parse\n",
    "\n",
    "# Sample data with mixed date formats\n",
    "data = {'date_column': ['2024-02-23', '23/02/2024', 'Feb 23, 2024', '02-23-2024', \n",
    "                        '2024.02.23', '3rd Mar 2001', '21st January 1999', '5th July 2015']}\n",
    "\n",
    "# Create DataFrame\n",
    "df = pd.DataFrame(data)\n",
    "\n",
    "# Function to clean and parse date safely\n",
    "def safe_date_parser(date_str):\n",
    "    try:\n",
    "        # Remove ordinal suffixes (st, nd, rd, th)\n",
    "        cleaned_date = re.sub(r'(\\d+)(st|nd|rd|th)', r'\\1', date_str)\n",
    "        dt = parse(cleaned_date, dayfirst=True)  # Automatically detects format\n",
    "        return dt.day, dt.strftime('%b'), dt.year  # '%b' returns short month name\n",
    "    except Exception:\n",
    "        return None, None, None  # If parsing fails, return None\n",
    "\n",
    "# Apply function to split date into day, short month name, year\n",
    "df[['day', 'month', 'year']] = df['date_column'].apply(lambda x: pd.Series(safe_date_parser(x)))\n",
    "\n",
    "# Display the result\n",
    "print(df)\n"
   ]
  },
  {
   "cell_type": "code",
   "execution_count": null,
   "id": "84278039",
   "metadata": {},
   "outputs": [],
   "source": []
  }
 ],
 "metadata": {
  "kernelspec": {
   "display_name": "Python 3 (ipykernel)",
   "language": "python",
   "name": "python3"
  },
  "language_info": {
   "codemirror_mode": {
    "name": "ipython",
    "version": 3
   },
   "file_extension": ".py",
   "mimetype": "text/x-python",
   "name": "python",
   "nbconvert_exporter": "python",
   "pygments_lexer": "ipython3",
   "version": "3.11.5"
  }
 },
 "nbformat": 4,
 "nbformat_minor": 5
}
