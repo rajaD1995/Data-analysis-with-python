{
 "cells": [
  {
   "cell_type": "markdown",
   "id": "fb7159a6",
   "metadata": {},
   "source": [
    "# without using matplotlib we work image with open cv"
   ]
  },
  {
   "cell_type": "code",
   "execution_count": 1,
   "id": "fd62d2e8",
   "metadata": {},
   "outputs": [],
   "source": [
    "import cv2"
   ]
  },
  {
   "cell_type": "code",
   "execution_count": 3,
   "id": "701143cd",
   "metadata": {},
   "outputs": [
    {
     "data": {
      "text/plain": [
       "numpy.ndarray"
      ]
     },
     "execution_count": 3,
     "metadata": {},
     "output_type": "execute_result"
    }
   ],
   "source": [
    "img = cv2.imread(r'C:\\Users\\USER\\Documents\\Python\\NareshIT\\Elephant-vs-Lion-1280x720-1-768x432.webp')\n",
    "type(img)"
   ]
  },
  {
   "cell_type": "code",
   "execution_count": 4,
   "id": "b8c04a9e",
   "metadata": {},
   "outputs": [
    {
     "data": {
      "text/plain": [
       "NoneType"
      ]
     },
     "execution_count": 4,
     "metadata": {},
     "output_type": "execute_result"
    }
   ],
   "source": [
    "#cv2.imread never give error, even though the name provided is not present in the foldr\n",
    "wrong_img = cv2.imread(r'C:\\Users\\USER\\Documents\\Python\\NareshIT\\dog.webp')\n",
    "type(wrong_img)"
   ]
  },
  {
   "cell_type": "code",
   "execution_count": 5,
   "id": "f93d590c",
   "metadata": {},
   "outputs": [
    {
     "data": {
      "text/plain": [
       "-1"
      ]
     },
     "execution_count": 5,
     "metadata": {},
     "output_type": "execute_result"
    }
   ],
   "source": [
    "#opening image in different window, with desired name, return -1 when we close the window.\n",
    "img = cv2.imread(r'C:\\Users\\USER\\Documents\\Python\\NareshIT\\Elephant-vs-Lion-1280x720-1-768x432.webp')\n",
    "\n",
    "cv2.imshow(\"mine\",img)\n",
    "cv2.waitKey()   #The function waitKey waits for a key event infinitely. When window close it return -1"
   ]
  },
  {
   "cell_type": "code",
   "execution_count": 7,
   "id": "055e7bf0",
   "metadata": {},
   "outputs": [],
   "source": [
    "img = cv2.imread(r'C:\\Users\\USER\\Documents\\Python\\NareshIT\\Elephant-vs-Lion-1280x720-1-768x432.webp')\n",
    "\n",
    "while True:\n",
    "    cv2.imshow(\"mine\",img)\n",
    "    \n",
    "    if cv2.waitKey(1) & 0xFF == 27:  #new window can only be closed by escape key\n",
    "        break\n",
    "cv2.destroyAllWindows()\n",
    "        "
   ]
  },
  {
   "cell_type": "code",
   "execution_count": null,
   "id": "751301a0",
   "metadata": {},
   "outputs": [],
   "source": []
  }
 ],
 "metadata": {
  "kernelspec": {
   "display_name": "Python 3 (ipykernel)",
   "language": "python",
   "name": "python3"
  },
  "language_info": {
   "codemirror_mode": {
    "name": "ipython",
    "version": 3
   },
   "file_extension": ".py",
   "mimetype": "text/x-python",
   "name": "python",
   "nbconvert_exporter": "python",
   "pygments_lexer": "ipython3",
   "version": "3.11.5"
  }
 },
 "nbformat": 4,
 "nbformat_minor": 5
}
